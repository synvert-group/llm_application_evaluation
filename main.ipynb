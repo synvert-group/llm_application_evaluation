{
 "cells": [
  {
   "cell_type": "code",
   "execution_count": 12,
   "metadata": {},
   "outputs": [],
   "source": [
    "import json\n",
    "import pandas as pd\n",
    "import numpy as np\n",
    "import matplotlib.pyplot as plt\n",
    "from tqdm import tqdm\n",
    "\n",
    "\n",
    "# Initialize vector store\n",
    "from application.application import Application\n",
    "from langchain_openai import ChatOpenAI, OpenAIEmbeddings\n",
    "from ragas import EvaluationDataset, evaluate\n",
    "from ragas.embeddings import LangchainEmbeddingsWrapper\n",
    "from ragas.llms import LangchainLLMWrapper\n",
    "from ragas.metrics import (\n",
    "    Faithfulness,\n",
    "    LLMContextRecall,\n",
    "    LLMContextPrecisionWithReference,\n",
    "    ResponseRelevancy,\n",
    "    ContextEntityRecall,\n",
    "    NoiseSensitivity\n",
    ")\n",
    "\n",
    "import warnings\n",
    "warnings.filterwarnings(\"ignore\")"
   ]
  },
  {
   "cell_type": "code",
   "execution_count": 13,
   "metadata": {},
   "outputs": [],
   "source": [
    "\n",
    "\n",
    "app = Application(reset_collection=False)\n",
    "\n"
   ]
  },
  {
   "cell_type": "code",
   "execution_count": 14,
   "metadata": {},
   "outputs": [],
   "source": [
    "\n",
    "\n",
    "llm = ChatOpenAI(model=\"gpt-4o\", temperature=0.0, max_tokens=1000, streaming=False)\n",
    "evaluator_llm = LangchainLLMWrapper(llm)\n",
    "evaluator_embeddings = LangchainEmbeddingsWrapper(OpenAIEmbeddings())\n",
    "\n",
    "metrics = [\n",
    "    # RAG Metrics\n",
    "    LLMContextRecall(llm=evaluator_llm),\n",
    "    LLMContextPrecisionWithReference(llm=evaluator_llm),\n",
    "    ContextEntityRecall(llm=evaluator_llm),\n",
    "    Faithfulness(llm=evaluator_llm),\n",
    "    ResponseRelevancy(embeddings=evaluator_embeddings, llm=evaluator_llm),\n",
    "    NoiseSensitivity(llm=evaluator_llm, focus=\"relevant\"),\n",
    "]"
   ]
  },
  {
   "cell_type": "markdown",
   "metadata": {},
   "source": [
    "## Evaluation Set Creation"
   ]
  },
  {
   "cell_type": "code",
   "execution_count": 15,
   "metadata": {},
   "outputs": [
    {
     "name": "stderr",
     "output_type": "stream",
     "text": [
      "LLM questions: 100%|██████████| 20/20 [00:14<00:00,  1.38it/s]\n",
      "Vector Search -> LLM questions: 100%|██████████| 20/20 [00:43<00:00,  2.17s/it]\n",
      "Vector Search -> Reranker -> LLM questions:   0%|          | 0/20 [00:00<?, ?it/s]You're using a XLMRobertaTokenizerFast tokenizer. Please note that with a fast tokenizer, using the `__call__` method is faster than using a method to encode the text followed by a call to the `pad` method to get a padded encoding.\n",
      "Vector Search -> Reranker -> LLM questions: 100%|██████████| 20/20 [03:57<00:00, 11.86s/it]\n"
     ]
    }
   ],
   "source": [
    "\n",
    "with open('./data/questions_groundtruth.json', 'r') as file:\n",
    "    data = json.load(file)\n",
    "    questions = data['examples']\n",
    "\n",
    "results = {}\n",
    "\n",
    "for mode in [\"LLM\", \"Vector Search -> LLM\", \"Vector Search -> Reranker -> LLM\"]:\n",
    "\n",
    "    sub_result = []\n",
    "\n",
    "    for question in tqdm(questions, desc=f\"{mode} questions\"):\n",
    "        question_text = question['question']\n",
    "        reference_text = question['answer']\n",
    "\n",
    "        if mode == \"LLM\":\n",
    "            response, docs, elapsed_time = app.ask_llm(question_text)\n",
    "        elif mode ==  \"Vector Search -> LLM\":\n",
    "            response, docs, elapsed_time = app.ask_llm_with_rag(question_text)\n",
    "        elif mode == \"Vector Search -> Reranker -> LLM\":\n",
    "            response, docs, elapsed_time = app.ask_llm_with_rag_and_rerank(question_text)\n",
    "\n",
    "        sub_result.append(\n",
    "            {\n",
    "                    \"user_input\": question_text,\n",
    "                    \"response\": response,\n",
    "                    \"retrieved_contexts\": docs,\n",
    "                    \"reference\": reference_text,\n",
    "                    \"elapsed_time\": elapsed_time\n",
    "                }\n",
    "        )\n",
    "    \n",
    "    results[mode] = EvaluationDataset.from_list(data=sub_result)\n",
    "    "
   ]
  },
  {
   "cell_type": "markdown",
   "metadata": {},
   "source": [
    "## Evaluation"
   ]
  },
  {
   "cell_type": "code",
   "execution_count": 16,
   "metadata": {},
   "outputs": [
    {
     "name": "stderr",
     "output_type": "stream",
     "text": [
      "Evaluating: 100%|██████████| 120/120 [00:52<00:00,  2.29it/s]\n",
      "Evaluating: 100%|██████████| 120/120 [01:50<00:00,  1.09it/s]\n",
      "Evaluating: 100%|██████████| 120/120 [02:04<00:00,  1.04s/it]\n"
     ]
    }
   ],
   "source": [
    "\n",
    "eval_results_df = pd.DataFrame()\n",
    "\n",
    "for mode, dataset in results.items():\n",
    "    eval = evaluate(dataset, metrics).to_pandas()\n",
    "    eval['mode'] = mode\n",
    "    eval_results_df = pd.concat([eval_results_df, eval ], axis=0)\n"
   ]
  },
  {
   "cell_type": "code",
   "execution_count": 17,
   "metadata": {
    "vscode": {
     "languageId": "javascript"
    }
   },
   "outputs": [],
   "source": [
    "eval_results_df.rename(columns={\n",
    "    'context_recall': 'Context Recall',\n",
    "    'llm_context_precision_with_reference': 'Context Precision',\n",
    "    'context_entity_recall': 'Context Entity Recall',\n",
    "    'faithfulness': 'Faithfulness',\n",
    "    'answer_relevancy': 'Answer Relevancy',\n",
    "    'noise_sensitivity_relevant': 'Noise Sensitivity'\n",
    "}, inplace=True)"
   ]
  },
  {
   "cell_type": "code",
   "execution_count": 18,
   "metadata": {},
   "outputs": [],
   "source": [
    "eval_results_df.to_csv('./data/eval_results.csv', index=False)\n",
    "\n",
    "eval_results_df = pd.read_csv('./data/eval_results.csv')"
   ]
  },
  {
   "cell_type": "code",
   "execution_count": 19,
   "metadata": {},
   "outputs": [
    {
     "name": "stdout",
     "output_type": "stream",
     "text": [
      "                                  Context Recall  Context Precision  \\\n",
      "mode                                                                  \n",
      "LLM                                         0.00           0.000000   \n",
      "Vector Search -> LLM                        0.23           0.099167   \n",
      "Vector Search -> Reranker -> LLM            0.47           0.418333   \n",
      "\n",
      "                                  Context Entity Recall  Faithfulness  \\\n",
      "mode                                                                    \n",
      "LLM                                            0.000000      0.000000   \n",
      "Vector Search -> LLM                           0.095833      0.396818   \n",
      "Vector Search -> Reranker -> LLM               0.264167      0.596953   \n",
      "\n",
      "                                  Answer Relevancy  Noise Sensitivity  \n",
      "mode                                                                   \n",
      "LLM                                       0.145617           0.350000  \n",
      "Vector Search -> LLM                      0.444472           0.600000  \n",
      "Vector Search -> Reranker -> LLM          0.739843           0.560278  \n"
     ]
    }
   ],
   "source": [
    "eval_results_df['Noise Sensitivity'].fillna(1, inplace=True)\n",
    "eval_results_df.fillna(0, inplace=True)\n",
    "\n",
    "\n",
    "# Group by 'mode' column and calculate the average for every numeric column\n",
    "numeric_columns = eval_results_df.select_dtypes(include='number').columns\n",
    "grouped_eval_results = eval_results_df.groupby('mode')[numeric_columns].mean()\n",
    "print(grouped_eval_results)"
   ]
  },
  {
   "cell_type": "markdown",
   "metadata": {},
   "source": [
    "## Visualization of Evaluation results\n"
   ]
  },
  {
   "cell_type": "code",
   "execution_count": 20,
   "metadata": {},
   "outputs": [
    {
     "data": {
      "image/png": "[encoded data removed]",
      "text/plain": [
       "<Figure size 1200x800 with 1 Axes>"
      ]
     },
     "metadata": {},
     "output_type": "display_data"
    }
   ],
   "source": [
    "import matplotlib.pyplot as plt\n",
    "\n",
    "# Define a color preset\n",
    "colors = plt.get_cmap('tab10').colors\n",
    "\n",
    "# Plotting the grouped bar chart for each numerical column in grouped_eval_results\n",
    "numeric_columns = grouped_eval_results.columns\n",
    "\n",
    "fig, ax = plt.subplots(figsize=(12, 8))\n",
    "\n",
    "# Define the width of the bars\n",
    "bar_width = 0.2\n",
    "\n",
    "# Set the positions of the bars on the x-axis\n",
    "r = list(range(len(numeric_columns)))\n",
    "\n",
    "# Plot each mode as a group of bars\n",
    "for i, mode in enumerate(grouped_eval_results.index):\n",
    "    ax.bar([x + i * bar_width for x in r], grouped_eval_results.loc[mode], width=bar_width, label=mode, color=colors[i % len(colors)], zorder=3)\n",
    "\n",
    "# Add a vertical line before the last group of bars\n",
    "last_group_index = len(numeric_columns) - 1  # Index of the last group\n",
    "split_position = last_group_index - 0.25  # Position of the vertical line\n",
    "\n",
    "ax.axvline(split_position, color='black', linestyle='--', linewidth=1)\n",
    "ax.set_ylim(0, 1.0)\n",
    "# Add labels above the chart, below the title\n",
    "y_pos = ax.get_ylim()[1]  # Slightly above the highest bar\n",
    "\n",
    "ax.text(split_position / 2, y_pos, 'Higher is better', ha='center', va='bottom', fontsize=10)\n",
    "ax.text(((split_position + last_group_index) / 2)+0.4, y_pos, 'Lower is better', ha='center', va='bottom', fontsize=10)\n",
    "\n",
    "# Add a grid in the background\n",
    "ax.grid(True, linestyle=\"--\", alpha=0.6, axis='y', zorder=4)\n",
    "\n",
    "\n",
    "\n",
    "\n",
    "# Add labels and title\n",
    "ax.set_xlabel('Metrics')\n",
    "ax.set_ylabel('Scores')\n",
    "ax.set_title('Evaluation Metrics by Mode', pad=25, fontweight=\"bold\")  # Adjust title spacing\n",
    "ax.set_xticks([x + bar_width * (len(grouped_eval_results.index) - 1) / 2 for x in r])\n",
    "ax.set_xticklabels(numeric_columns)\n",
    "\n",
    "# Move legend outside the chart, aligned to the right\n",
    "ax.legend()\n",
    "\n",
    "\n",
    "plt.tight_layout()\n",
    "plt.show()\n",
    "\n",
    "\n"
   ]
  },
  {
   "cell_type": "code",
   "execution_count": null,
   "metadata": {},
   "outputs": [],
   "source": []
  }
 ],
 "metadata": {
  "kernelspec": {
   "display_name": "llm-application-evaluation-YcdrqCpS-py3.12",
   "language": "python",
   "name": "python3"
  },
  "language_info": {
   "codemirror_mode": {
    "name": "ipython",
    "version": 3
   },
   "file_extension": ".py",
   "mimetype": "text/x-python",
   "name": "python",
   "nbconvert_exporter": "python",
   "pygments_lexer": "ipython3",
   "version": "3.12.7"
  }
 },
 "nbformat": 4,
 "nbformat_minor": 2
}
